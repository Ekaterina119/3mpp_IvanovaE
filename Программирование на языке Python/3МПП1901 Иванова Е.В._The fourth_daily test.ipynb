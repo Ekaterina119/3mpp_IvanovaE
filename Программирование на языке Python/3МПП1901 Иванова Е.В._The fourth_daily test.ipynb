{
 "cells": [
  {
   "cell_type": "markdown",
   "metadata": {},
   "source": [
    "### 1、Import tensorflow and use tensorflow to define a constant."
   ]
  },
  {
   "cell_type": "code",
   "execution_count": 33,
   "metadata": {},
   "outputs": [],
   "source": [
    "import tensorflow.compat.v1 as tf"
   ]
  },
  {
   "cell_type": "code",
   "execution_count": 34,
   "metadata": {},
   "outputs": [],
   "source": [
    "tf.disable_v2_behavior()"
   ]
  },
  {
   "cell_type": "code",
   "execution_count": 35,
   "metadata": {},
   "outputs": [],
   "source": [
    "welcome = tf.constant('Welcome to Huawei')"
   ]
  },
  {
   "cell_type": "markdown",
   "metadata": {},
   "source": [
    "### 2、Use tensorflow to print 'Welcome to Huawei'."
   ]
  },
  {
   "cell_type": "code",
   "execution_count": 36,
   "metadata": {},
   "outputs": [
    {
     "name": "stdout",
     "output_type": "stream",
     "text": [
      "Tensor(\"Const_8:0\", shape=(), dtype=string)\n"
     ]
    }
   ],
   "source": [
    "print(welcome)"
   ]
  },
  {
   "cell_type": "code",
   "execution_count": 37,
   "metadata": {},
   "outputs": [
    {
     "name": "stdout",
     "output_type": "stream",
     "text": [
      "b'Welcome to Huawei'\n"
     ]
    }
   ],
   "source": [
    "session = tf.Session()\n",
    "print (session.run(welcome)) "
   ]
  },
  {
   "cell_type": "code",
   "execution_count": 38,
   "metadata": {},
   "outputs": [],
   "source": [
    "session.close() "
   ]
  },
  {
   "cell_type": "markdown",
   "metadata": {},
   "source": [
    "### 3、Use tensorflow to define two numeric constants,then calculate them and print the result."
   ]
  },
  {
   "cell_type": "code",
   "execution_count": 39,
   "metadata": {},
   "outputs": [],
   "source": [
    "a = tf.constant(5)\n",
    "b = tf.constant(9)"
   ]
  },
  {
   "cell_type": "code",
   "execution_count": 40,
   "metadata": {},
   "outputs": [
    {
     "name": "stdout",
     "output_type": "stream",
     "text": [
      "45\n"
     ]
    }
   ],
   "source": [
    "with tf.Session() as sess:\n",
    "     print(sess.run(a*b))"
   ]
  },
  {
   "cell_type": "code",
   "execution_count": 41,
   "metadata": {},
   "outputs": [],
   "source": [
    "session.close() "
   ]
  },
  {
   "cell_type": "markdown",
   "metadata": {},
   "source": [
    "### 4、Randomly generate two matrices using tensorflow, calculate and print the result of their multiplication."
   ]
  },
  {
   "cell_type": "code",
   "execution_count": 42,
   "metadata": {},
   "outputs": [],
   "source": [
    "session = tf.InteractiveSession()\n",
    "X = tf.Variable(tf.random_normal([5,3],mean=1.0, stddev=1.0))\n",
    "Y = tf.Variable(tf.random_normal([3,4],mean=1.0, stddev=1.0))"
   ]
  },
  {
   "cell_type": "code",
   "execution_count": 43,
   "metadata": {},
   "outputs": [],
   "source": [
    "tf.global_variables_initializer().run()\n",
    "multiplication = tf.matmul(X,Y)"
   ]
  },
  {
   "cell_type": "code",
   "execution_count": 44,
   "metadata": {},
   "outputs": [
    {
     "name": "stdout",
     "output_type": "stream",
     "text": [
      "Tensor(\"MatMul_6:0\", shape=(5, 4), dtype=float32)\n"
     ]
    }
   ],
   "source": [
    "print(multiplication)"
   ]
  },
  {
   "cell_type": "code",
   "execution_count": 45,
   "metadata": {},
   "outputs": [
    {
     "name": "stdout",
     "output_type": "stream",
     "text": [
      "[[ 0.8045607  -0.04752133 -0.7333451  -0.14805688]\n",
      " [ 6.845264    1.5495372  -0.14325917  2.2150412 ]\n",
      " [ 2.926396    0.8524998   2.8503785   2.9373171 ]\n",
      " [ 5.81348     1.5096284   2.678241    3.7903285 ]\n",
      " [ 2.3546345   1.5854129   3.115187    2.5486598 ]]\n"
     ]
    }
   ],
   "source": [
    "print(session.run(multiplication))\n",
    "session.close()"
   ]
  },
  {
   "cell_type": "markdown",
   "metadata": {},
   "source": [
    "### 5、Try to use your own handwriting number to do image recognition"
   ]
  },
  {
   "cell_type": "code",
   "execution_count": 46,
   "metadata": {},
   "outputs": [],
   "source": [
    "import numpy as np\n",
    "import tensorflow as tf\n",
    "from tensorflow.examples.tutorials.mnist import input_data\n",
    "import time\n",
    "import cv2\n",
    "import matplotlib.pyplot as plt"
   ]
  },
  {
   "cell_type": "code",
   "execution_count": 47,
   "metadata": {},
   "outputs": [
    {
     "name": "stdout",
     "output_type": "stream",
     "text": [
      "Extracting data\\MNIST_data\\train-images-idx3-ubyte.gz\n",
      "Extracting data\\MNIST_data\\train-labels-idx1-ubyte.gz\n",
      "Extracting data\\MNIST_data\\t10k-images-idx3-ubyte.gz\n",
      "Extracting data\\MNIST_data\\t10k-labels-idx1-ubyte.gz\n"
     ]
    }
   ],
   "source": [
    "mnist = input_data.read_data_sets(\"data\\\\MNIST_data\\\\\", one_hot=True)"
   ]
  },
  {
   "cell_type": "code",
   "execution_count": 48,
   "metadata": {},
   "outputs": [
    {
     "data": {
      "image/png": "[encoded data removed]",
      "text/plain": [
       "<Figure size 432x288 with 1 Axes>"
      ]
     },
     "metadata": {
      "needs_background": "light"
     },
     "output_type": "display_data"
    },
    {
     "data": {
      "text/plain": [
       "(1, 784)"
      ]
     },
     "execution_count": 48,
     "metadata": {},
     "output_type": "execute_result"
    }
   ],
   "source": [
    "def make_label(label_num):\n",
    "    label = np.zeros((1,10),dtype='float32')\n",
    "    label[:,label_num] = 1.0\n",
    "    return label\n",
    "\n",
    "label_test = make_label(3)\n",
    "# the path of image\n",
    "img_path = \"data\\\\self_data\\\\3.jpg\"\n",
    "img_file = cv2.imread(img_path)\n",
    "img_file = cv2.cvtColor(img_file, cv2.COLOR_RGB2GRAY)\n",
    "img_file = 255 - img_file\n",
    "for row in range(img_file.shape[0]):\n",
    "    for col in range(img_file.shape[1]):\n",
    "        if img_file[row][col] < 120.0:\n",
    "            img_file[row][col] = 0\n",
    "plt.imshow(img_file,'gray')\n",
    "plt.show()\n",
    "data_test = img_file / 255\n",
    "data_test = np.float32(img_file.reshape(1, 28*28))\n",
    "data_test.shape"
   ]
  },
  {
   "cell_type": "code",
   "execution_count": 49,
   "metadata": {},
   "outputs": [],
   "source": [
    "input_num = 784\n",
    "h1_num = 512\n",
    "epochs = 3000\n",
    "batch_num = 1000\n",
    "lr = 0.09\n",
    "W1 = tf.Variable(tf.truncated_normal([input_num, h1_num],stddev=0.1))\n",
    "W2 = tf.Variable(tf.zeros([h1_num,10]))\n",
    "B1 = tf.Variable(tf.zeros([h1_num]))\n",
    "B2 = tf.Variable(tf.zeros([10]))\n",
    "x = tf.placeholder(tf.float32, [None, input_num])\n",
    "keep_prob = tf.placeholder(tf.float32)\n",
    "label = tf.placeholder(tf.float32, [None,10])\n",
    "\n",
    "hidden1 = tf.nn.relu(tf.matmul(x,W1) + B1)\n",
    "hidden1_drop = tf.nn.dropout(hidden1, keep_prob)\n",
    "y = tf.nn.softmax(tf.matmul(hidden1_drop, W2) + B2)\n",
    "\n",
    "cross_entropy = tf.reduce_mean(-tf.reduce_sum(label * tf.log(y), reduction_indices=[1]))\n",
    "train_step = tf.train.AdagradOptimizer(lr).minimize(cross_entropy)"
   ]
  },
  {
   "cell_type": "code",
   "execution_count": 50,
   "metadata": {},
   "outputs": [
    {
     "name": "stdout",
     "output_type": "stream",
     "text": [
      "epoch: 0, loss: 2.30\n",
      "epoch: 100, loss: 0.37\n",
      "epoch: 200, loss: 0.31\n",
      "epoch: 300, loss: 0.23\n",
      "epoch: 400, loss: 0.22\n",
      "epoch: 500, loss: 0.18\n",
      "epoch: 600, loss: 0.18\n",
      "epoch: 700, loss: 0.16\n",
      "epoch: 800, loss: 0.17\n",
      "epoch: 900, loss: 0.18\n",
      "epoch: 1000, loss: 0.14\n",
      "epoch: 1100, loss: 0.11\n",
      "epoch: 1200, loss: 0.13\n",
      "epoch: 1300, loss: 0.10\n",
      "epoch: 1400, loss: 0.11\n",
      "epoch: 1500, loss: 0.13\n",
      "epoch: 1600, loss: 0.10\n",
      "epoch: 1700, loss: 0.11\n",
      "epoch: 1800, loss: 0.11\n",
      "epoch: 1900, loss: 0.11\n",
      "epoch: 2000, loss: 0.10\n",
      "epoch: 2100, loss: 0.08\n",
      "epoch: 2200, loss: 0.08\n",
      "epoch: 2300, loss: 0.06\n",
      "epoch: 2400, loss: 0.07\n",
      "epoch: 2500, loss: 0.07\n",
      "epoch: 2600, loss: 0.07\n",
      "epoch: 2700, loss: 0.06\n",
      "epoch: 2800, loss: 0.06\n",
      "epoch: 2900, loss: 0.05\n",
      "The accuracy of the test data：97.90%\n",
      "The total time：116.23s\n",
      "The accuracy of my: 100.00%\n"
     ]
    }
   ],
   "source": [
    "with tf.Session() as sess:\n",
    "    start = time.time()\n",
    "    tf.global_variables_initializer().run()\n",
    "    for epoch in range(epochs):\n",
    "        batch_xs, batch_ys = mnist.train.next_batch(batch_num)\n",
    "        _,cost = sess.run([train_step, cross_entropy], feed_dict={x: batch_xs, label: batch_ys, keep_prob:0.75})\n",
    "        if epoch % 100 == 0:\n",
    "            print(\"epoch: {}, loss: {:.2f}\".format(epoch, cost))\n",
    "        \n",
    "    stop = time.time()\n",
    "    correct_prediction = tf.equal(tf.argmax(y,1), tf.argmax(label,1))\n",
    "    accuracy = tf.reduce_mean(tf.cast(correct_prediction, tf.float32))\n",
    "    predict_acc = sess.run(accuracy, feed_dict={x: mnist.test.images, label: mnist.test.labels, keep_prob:1.0})\n",
    "    print(\"The accuracy of the test data：{:.2f}%\".format(predict_acc * 100))\n",
    "    print(\"The total time：{:.2f}s\".format(stop-start))\n",
    "    test_acc,test_value = sess.run([accuracy,y], feed_dict={x:data_test, label:label_test, keep_prob:1.0})\n",
    "    print(\"The accuracy of my: {:.2f}%\".format(test_acc * 100))"
   ]
  },
  {
   "cell_type": "code",
   "execution_count": 51,
   "metadata": {},
   "outputs": [
    {
     "name": "stdout",
     "output_type": "stream",
     "text": [
      "The prediction by AI is 3\n"
     ]
    }
   ],
   "source": [
    "print(\"The prediction by AI is {}\".format(list(test_value[0]).index(test_value[0].max())))"
   ]
  }
 ],
 "metadata": {
  "kernelspec": {
   "display_name": "Python 3",
   "language": "python",
   "name": "python3"
  },
  "language_info": {
   "codemirror_mode": {
    "name": "ipython",
    "version": 3
   },
   "file_extension": ".py",
   "mimetype": "text/x-python",
   "name": "python",
   "nbconvert_exporter": "python",
   "pygments_lexer": "ipython3",
   "version": "3.7.6"
  }
 },
 "nbformat": 4,
 "nbformat_minor": 2
}
